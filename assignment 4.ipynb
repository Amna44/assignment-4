{
 "cells": [
  {
   "cell_type": "code",
   "execution_count": 1,
   "metadata": {},
   "outputs": [],
   "source": [
    "information=[]"
   ]
  },
  {
   "cell_type": "code",
   "execution_count": 2,
   "metadata": {},
   "outputs": [],
   "source": [
    "studentform1={\"name\" : \"Hamza Ali\",\n",
    "     \"age\"  : 25,\n",
    "     \"work\" : \"A.I\",\n",
    "     \"skills\" : [\"python\", \"tensorflow\", \"cloud\"],\n",
    "     \"degree\" : {\"title\" : \"BS\", \"major\" : \"computer Science\", \"completionDate\" : \"Jun 2019\"},\n",
    "     \"salary\" : 259999\n",
    "     }"
   ]
  },
  {
   "cell_type": "code",
   "execution_count": 3,
   "metadata": {},
   "outputs": [
    {
     "data": {
      "text/plain": [
       "dict"
      ]
     },
     "execution_count": 3,
     "metadata": {},
     "output_type": "execute_result"
    }
   ],
   "source": [
    "type(studentform1)"
   ]
  },
  {
   "cell_type": "code",
   "execution_count": 4,
   "metadata": {},
   "outputs": [],
   "source": [
    "studentform2={'name': 'Farooq Aziz',\n",
    "  'age': 27,\n",
    "  'work': 'Cloud Native',\n",
    "  'skills': ['ubuntu', 'docker', 'kubernetes'],\n",
    "  'degree': {'title': 'MS',\n",
    "   'major': 'Software engineer',\n",
    "   'completionDate': 'May 2018'},\n",
    "  'salary': 200000}"
   ]
  },
  {
   "cell_type": "code",
   "execution_count": 5,
   "metadata": {},
   "outputs": [
    {
     "data": {
      "text/plain": [
       "dict"
      ]
     },
     "execution_count": 5,
     "metadata": {},
     "output_type": "execute_result"
    }
   ],
   "source": [
    "type(studentform2)"
   ]
  },
  {
   "cell_type": "code",
   "execution_count": 6,
   "metadata": {},
   "outputs": [],
   "source": [
    "studentform3={'name': 'Abu Bakr',\n",
    "  'age': 30,\n",
    "  'work': 'Blockchain',\n",
    "  'skills': ['python', 'Cryptography', 'Ethereum'],\n",
    "  'degree': {'title': 'BS',\n",
    "   'major': 'computer Science',\n",
    "   'completionDate': 'May 2019'},\n",
    "  'salary': 300000}"
   ]
  },
  {
   "cell_type": "code",
   "execution_count": 7,
   "metadata": {},
   "outputs": [
    {
     "data": {
      "text/plain": [
       "dict"
      ]
     },
     "execution_count": 7,
     "metadata": {},
     "output_type": "execute_result"
    }
   ],
   "source": [
    "type(studentform3)"
   ]
  },
  {
   "cell_type": "code",
   "execution_count": 8,
   "metadata": {},
   "outputs": [],
   "source": [
    "information=[studentform1]"
   ]
  },
  {
   "cell_type": "code",
   "execution_count": 9,
   "metadata": {},
   "outputs": [
    {
     "data": {
      "text/plain": [
       "[{'name': 'Hamza Ali',\n",
       "  'age': 25,\n",
       "  'work': 'A.I',\n",
       "  'skills': ['python', 'tensorflow', 'cloud'],\n",
       "  'degree': {'title': 'BS',\n",
       "   'major': 'computer Science',\n",
       "   'completionDate': 'Jun 2019'},\n",
       "  'salary': 259999}]"
      ]
     },
     "execution_count": 9,
     "metadata": {},
     "output_type": "execute_result"
    }
   ],
   "source": [
    "information"
   ]
  },
  {
   "cell_type": "code",
   "execution_count": 10,
   "metadata": {},
   "outputs": [],
   "source": [
    "information.append(studentform2)\n",
    "information.append(studentform3)"
   ]
  },
  {
   "cell_type": "code",
   "execution_count": 11,
   "metadata": {},
   "outputs": [
    {
     "data": {
      "text/plain": [
       "[{'name': 'Hamza Ali',\n",
       "  'age': 25,\n",
       "  'work': 'A.I',\n",
       "  'skills': ['python', 'tensorflow', 'cloud'],\n",
       "  'degree': {'title': 'BS',\n",
       "   'major': 'computer Science',\n",
       "   'completionDate': 'Jun 2019'},\n",
       "  'salary': 259999},\n",
       " {'name': 'Farooq Aziz',\n",
       "  'age': 27,\n",
       "  'work': 'Cloud Native',\n",
       "  'skills': ['ubuntu', 'docker', 'kubernetes'],\n",
       "  'degree': {'title': 'MS',\n",
       "   'major': 'Software engineer',\n",
       "   'completionDate': 'May 2018'},\n",
       "  'salary': 200000},\n",
       " {'name': 'Abu Bakr',\n",
       "  'age': 30,\n",
       "  'work': 'Blockchain',\n",
       "  'skills': ['python', 'Cryptography', 'Ethereum'],\n",
       "  'degree': {'title': 'BS',\n",
       "   'major': 'computer Science',\n",
       "   'completionDate': 'May 2019'},\n",
       "  'salary': 300000}]"
      ]
     },
     "execution_count": 11,
     "metadata": {},
     "output_type": "execute_result"
    }
   ],
   "source": [
    "information"
   ]
  },
  {
   "cell_type": "code",
   "execution_count": 12,
   "metadata": {},
   "outputs": [
    {
     "data": {
      "text/plain": [
       "'Hamza Ali'"
      ]
     },
     "execution_count": 12,
     "metadata": {},
     "output_type": "execute_result"
    }
   ],
   "source": [
    "studentform1[\"name\"]"
   ]
  },
  {
   "cell_type": "code",
   "execution_count": 13,
   "metadata": {},
   "outputs": [
    {
     "data": {
      "text/plain": [
       "['python', 'tensorflow', 'cloud']"
      ]
     },
     "execution_count": 13,
     "metadata": {},
     "output_type": "execute_result"
    }
   ],
   "source": [
    "studentform1[\"skills\"]"
   ]
  },
  {
   "cell_type": "code",
   "execution_count": 14,
   "metadata": {},
   "outputs": [
    {
     "data": {
      "text/plain": [
       "{'title': 'BS', 'major': 'computer Science', 'completionDate': 'May 2019'}"
      ]
     },
     "execution_count": 14,
     "metadata": {},
     "output_type": "execute_result"
    }
   ],
   "source": [
    "studentform3[\"degree\"]"
   ]
  },
  {
   "cell_type": "code",
   "execution_count": 15,
   "metadata": {},
   "outputs": [
    {
     "name": "stdout",
     "output_type": "stream",
     "text": [
      "MS\n"
     ]
    }
   ],
   "source": [
    "print(studentform2[\"degree\"][\"title\"])    #DICTIONARY OF DICTIONARIES(dic me dic)"
   ]
  },
  {
   "cell_type": "code",
   "execution_count": 16,
   "metadata": {},
   "outputs": [
    {
     "name": "stdout",
     "output_type": "stream",
     "text": [
      "python\n"
     ]
    }
   ],
   "source": [
    "print(studentform1[\"skills\"][0])          #DICTIONARY OF LISTS(dic me list)"
   ]
  },
  {
   "cell_type": "code",
   "execution_count": 17,
   "metadata": {},
   "outputs": [
    {
     "name": "stdout",
     "output_type": "stream",
     "text": [
      "259999\n"
     ]
    }
   ],
   "source": [
    "print(information[0][\"salary\"])           #LIST OF DICTIONARY(list me dictionary)"
   ]
  },
  {
   "cell_type": "code",
   "execution_count": 18,
   "metadata": {},
   "outputs": [
    {
     "name": "stdout",
     "output_type": "stream",
     "text": [
      "200000\n"
     ]
    }
   ],
   "source": [
    "print(information[1][\"salary\"])"
   ]
  },
  {
   "cell_type": "code",
   "execution_count": 19,
   "metadata": {},
   "outputs": [
    {
     "data": {
      "text/plain": [
       "{'title': 'BS', 'major': 'computer Science', 'completionDate': 'May 2019'}"
      ]
     },
     "execution_count": 19,
     "metadata": {},
     "output_type": "execute_result"
    }
   ],
   "source": [
    "information[2][\"degree\"]"
   ]
  },
  {
   "cell_type": "code",
   "execution_count": 20,
   "metadata": {},
   "outputs": [
    {
     "name": "stdout",
     "output_type": "stream",
     "text": [
      "enter tables from:5\n",
      "enter tables to:10\n",
      "\n",
      "\n",
      "1 * 5 = 5 \n",
      "2 * 5 = 10 \n",
      "3 * 5 = 15 \n",
      "4 * 5 = 20 \n",
      "5 * 5 = 25 \n",
      "6 * 5 = 30 \n",
      "7 * 5 = 35 \n",
      "8 * 5 = 40 \n",
      "9 * 5 = 45 \n",
      "10 * 5 = 50 \n",
      "\n",
      "\n",
      "1 * 6 = 6 \n",
      "2 * 6 = 12 \n",
      "3 * 6 = 18 \n",
      "4 * 6 = 24 \n",
      "5 * 6 = 30 \n",
      "6 * 6 = 36 \n",
      "7 * 6 = 42 \n",
      "8 * 6 = 48 \n",
      "9 * 6 = 54 \n",
      "10 * 6 = 60 \n",
      "\n",
      "\n",
      "1 * 7 = 7 \n",
      "2 * 7 = 14 \n",
      "3 * 7 = 21 \n",
      "4 * 7 = 28 \n",
      "5 * 7 = 35 \n",
      "6 * 7 = 42 \n",
      "7 * 7 = 49 \n",
      "8 * 7 = 56 \n",
      "9 * 7 = 63 \n",
      "10 * 7 = 70 \n",
      "\n",
      "\n",
      "1 * 8 = 8 \n",
      "2 * 8 = 16 \n",
      "3 * 8 = 24 \n",
      "4 * 8 = 32 \n",
      "5 * 8 = 40 \n",
      "6 * 8 = 48 \n",
      "7 * 8 = 56 \n",
      "8 * 8 = 64 \n",
      "9 * 8 = 72 \n",
      "10 * 8 = 80 \n",
      "\n",
      "\n",
      "1 * 9 = 9 \n",
      "2 * 9 = 18 \n",
      "3 * 9 = 27 \n",
      "4 * 9 = 36 \n",
      "5 * 9 = 45 \n",
      "6 * 9 = 54 \n",
      "7 * 9 = 63 \n",
      "8 * 9 = 72 \n",
      "9 * 9 = 81 \n",
      "10 * 9 = 90 \n",
      "\n",
      "\n",
      "1 * 10 = 10 \n",
      "2 * 10 = 20 \n",
      "3 * 10 = 30 \n",
      "4 * 10 = 40 \n",
      "5 * 10 = 50 \n",
      "6 * 10 = 60 \n",
      "7 * 10 = 70 \n",
      "8 * 10 = 80 \n",
      "9 * 10 = 90 \n",
      "10 * 10 = 100 \n"
     ]
    }
   ],
   "source": [
    "tables=int(input(\"enter tables from:\"))\n",
    "tables=int(input(\"enter tables to:\"))\n",
    "for num in range(5,11):\n",
    "    print(\"\\n\")\n",
    "    for table in range(1,tables+1):\n",
    "        print(str(table),'*', str(num), '=', str(table*num),'' ,end='')\n",
    "        print('')"
   ]
  },
  {
   "cell_type": "code",
   "execution_count": 21,
   "metadata": {},
   "outputs": [
    {
     "name": "stdout",
     "output_type": "stream",
     "text": [
      "5 * 1 = 5 \t6 * 1 = 6 \t7 * 1 = 7 \t8 * 1 = 8 \t9 * 1 = 9 \t10 * 1 = 10 \t\n",
      "5 * 2 = 10 \t6 * 2 = 12 \t7 * 2 = 14 \t8 * 2 = 16 \t9 * 2 = 18 \t10 * 2 = 20 \t\n",
      "5 * 3 = 15 \t6 * 3 = 18 \t7 * 3 = 21 \t8 * 3 = 24 \t9 * 3 = 27 \t10 * 3 = 30 \t\n",
      "5 * 4 = 20 \t6 * 4 = 24 \t7 * 4 = 28 \t8 * 4 = 32 \t9 * 4 = 36 \t10 * 4 = 40 \t\n",
      "5 * 5 = 25 \t6 * 5 = 30 \t7 * 5 = 35 \t8 * 5 = 40 \t9 * 5 = 45 \t10 * 5 = 50 \t\n",
      "5 * 6 = 30 \t6 * 6 = 36 \t7 * 6 = 42 \t8 * 6 = 48 \t9 * 6 = 54 \t10 * 6 = 60 \t\n",
      "5 * 7 = 35 \t6 * 7 = 42 \t7 * 7 = 49 \t8 * 7 = 56 \t9 * 7 = 63 \t10 * 7 = 70 \t\n",
      "5 * 8 = 40 \t6 * 8 = 48 \t7 * 8 = 56 \t8 * 8 = 64 \t9 * 8 = 72 \t10 * 8 = 80 \t\n",
      "5 * 9 = 45 \t6 * 9 = 54 \t7 * 9 = 63 \t8 * 9 = 72 \t9 * 9 = 81 \t10 * 9 = 90 \t\n",
      "5 * 10 = 50 \t6 * 10 = 60 \t7 * 10 = 70 \t8 * 10 = 80 \t9 * 10 = 90 \t10 * 10 = 100 \t\n"
     ]
    }
   ],
   "source": [
    "for num in range(1,11):\n",
    "    for table in range(5,table+1):\n",
    "        print(str(table),'*', str(num), '=', str(table*num),'\\t' ,end='')\n",
    "    print('')"
   ]
  },
  {
   "cell_type": "code",
   "execution_count": null,
   "metadata": {},
   "outputs": [],
   "source": []
  }
 ],
 "metadata": {
  "kernelspec": {
   "display_name": "Python 3",
   "language": "python",
   "name": "python3"
  },
  "language_info": {
   "codemirror_mode": {
    "name": "ipython",
    "version": 3
   },
   "file_extension": ".py",
   "mimetype": "text/x-python",
   "name": "python",
   "nbconvert_exporter": "python",
   "pygments_lexer": "ipython3",
   "version": "3.7.4"
  }
 },
 "nbformat": 4,
 "nbformat_minor": 2
}
